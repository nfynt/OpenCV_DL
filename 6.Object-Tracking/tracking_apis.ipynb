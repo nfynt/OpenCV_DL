{
 "cells": [
  {
   "cell_type": "code",
   "execution_count": 3,
   "metadata": {},
   "outputs": [],
   "source": [
    "import cv2"
   ]
  },
  {
   "cell_type": "code",
   "execution_count": 4,
   "metadata": {},
   "outputs": [],
   "source": [
    "def ask_for_tracker():\n",
    "    print(\"Select tracker API\")\n",
    "    print(\"0. BOOSTING\")\n",
    "    print(\"1. MIL\")\n",
    "    print(\"2. KCF\")\n",
    "    print(\"3. TLD\")\n",
    "    print(\"4. MedianFlow\")\n",
    "    \n",
    "    choice = input(\"Please input tracker: \")\n",
    "    \n",
    "    if choice == '0':\n",
    "        tracker = cv2.TrackerBoosting_create()\n",
    "    if choice == '1':\n",
    "        tracker = cv2.TrackerMIL_create()\n",
    "    if choice == '2':\n",
    "        tracker = cv2.TrackerKCF_create()\n",
    "    if choice == '3':\n",
    "        tracker = cv2.TrackerTLD_create()\n",
    "    if choice == '4':\n",
    "        tracker = cv2.TrackerMedianFlow_create()\n",
    "        \n",
    "    return tracker"
   ]
  },
  {
   "cell_type": "code",
   "execution_count": 5,
   "metadata": {},
   "outputs": [
    {
     "name": "stdout",
     "output_type": "stream",
     "text": [
      "Select tracker API\n",
      "0. BOOSTING\n",
      "1. MIL\n",
      "2. KCF\n",
      "3. TLD\n",
      "4. MedianFlow\n"
     ]
    },
    {
     "name": "stdin",
     "output_type": "stream",
     "text": [
      "Please input tracker:  2\n"
     ]
    }
   ],
   "source": [
    "tracker = ask_for_tracker()"
   ]
  },
  {
   "cell_type": "code",
   "execution_count": 6,
   "metadata": {},
   "outputs": [
    {
     "data": {
      "text/plain": [
       "'TrackerKCF'"
      ]
     },
     "execution_count": 6,
     "metadata": {},
     "output_type": "execute_result"
    }
   ],
   "source": [
    "tracker_name = str(tracker).split()[0][1:]\n",
    "tracker_name"
   ]
  },
  {
   "cell_type": "code",
   "execution_count": 11,
   "metadata": {},
   "outputs": [],
   "source": [
    "cap = cv2.VideoCapture(0)\n",
    "\n",
    "ret,frame = cap.read()\n",
    "\n",
    "# Draw roi on first frame\n",
    "roi = cv2.selectROI(frame,False)\n",
    "\n",
    "# Initialize tracker with first frame and bounding box\n",
    "ret = tracker.init(frame,roi)\n",
    "\n",
    "while True:\n",
    "    \n",
    "    ret,frame = cap.read()\n",
    "    \n",
    "    success,roi = tracker.update(frame)\n",
    "    \n",
    "#     roi is a tuple of 4 floats, we need them as int\n",
    "    (x,y,w,h) = tuple(map(int,roi))\n",
    "    \n",
    "    if success:\n",
    "        cv2.rectangle(frame,(x,y),(x+w,y+h),(0,0,255),5)\n",
    "    else:\n",
    "        cv2.putText(frame,\"Lost tracking!\",(100,200),cv2.FONT_HERSHEY_COMPLEX,2,(0,0,255),5)\n",
    "        \n",
    "    cv2.putText(frame,tracker_name,(20,400),cv2.FONT_HERSHEY_COMPLEX,2,(0,0,255),5)\n",
    "    cv2.imshow(\"Tracking\",frame)\n",
    "    \n",
    "    if 0xFF & cv2.waitKey(1) == 27:\n",
    "        break\n",
    "        \n",
    "cap.release()\n",
    "cv2.destroyAllWindows()"
   ]
  }
 ],
 "metadata": {
  "kernelspec": {
   "display_name": "Python 3",
   "language": "python",
   "name": "python3"
  },
  "language_info": {
   "codemirror_mode": {
    "name": "ipython",
    "version": 3
   },
   "file_extension": ".py",
   "mimetype": "text/x-python",
   "name": "python",
   "nbconvert_exporter": "python",
   "pygments_lexer": "ipython3",
   "version": "3.6.6"
  }
 },
 "nbformat": 4,
 "nbformat_minor": 2
}
