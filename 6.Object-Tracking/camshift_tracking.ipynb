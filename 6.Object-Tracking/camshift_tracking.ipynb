{
 "cells": [
  {
   "cell_type": "code",
   "execution_count": 1,
   "metadata": {},
   "outputs": [],
   "source": [
    "import cv2\n",
    "import numpy as np"
   ]
  },
  {
   "cell_type": "code",
   "execution_count": 6,
   "metadata": {},
   "outputs": [],
   "source": [
    "cap = cv2.VideoCapture(0)\n",
    "\n",
    "ret,frame = cap.read()\n",
    "\n",
    "face_cascade = cv2.CascadeClassifier(\"../DATA/haarcascades/haarcascade_frontalface_default.xml\")\n",
    "face_rects = face_cascade.detectMultiScale(frame)\n",
    "\n",
    "face_x,face_y,w,h = tuple(face_rects[0])\n",
    "track_win = (face_x,face_y,w,h)\n",
    "\n",
    "roi = frame[face_y:face_y+h,face_x:face_x+w]\n",
    "\n",
    "hsv_roi = cv2.cvtColor(roi,cv2.COLOR_BGR2HSV)\n",
    "\n",
    "roi_hst = cv2.calcHist([hsv_roi],[0],None,[180],[0,180])\n",
    "\n",
    "cv2.normalize(roi_hst,roi_hst,0,255,cv2.NORM_MINMAX)\n",
    "\n",
    "term_criteria = (cv2.TERM_CRITERIA_EPS | cv2.TERM_CRITERIA_COUNT,10,1)\n",
    "\n",
    "while True:\n",
    "    \n",
    "    ret,frame = cap.read()\n",
    "    \n",
    "    if ret==True:\n",
    "        hsv = cv2.cvtColor(frame,cv2.COLOR_BGR2HSV)\n",
    "        \n",
    "        dst = cv2.calcBackProject([hsv],[0],roi_hst,[0,180],1)\n",
    "#         Meanshift method\n",
    "#         ret,track_win = cv2.meanShift(dst,track_win,term_criteria)\n",
    "#         x,y,w,h = track_win\n",
    "#         img2 = cv2.rectangle(frame,(x,y),(x+w,y+h),(0,0,255),5)\n",
    "\n",
    "#         Continuously Adaptive Meanshift method\n",
    "#         Not best to track faces - tracks other part of body that are moving as well\n",
    "        ret,track_win = cv2.CamShift(dst,track_win,term_criteria)\n",
    "        pts = cv2.boxPoints(ret)\n",
    "        pts = np.int0(pts)\n",
    "        \n",
    "        img2 = cv2.polylines(frame,[pts],True,(0,0,255),5)\n",
    "        \n",
    "        \n",
    "        cv2.imshow(\"Face Tracking\",img2)\n",
    "        \n",
    "        k=cv2.waitKey(1) & 0xFF\n",
    "        \n",
    "        if k==27:\n",
    "            break;\n",
    "            \n",
    "cap.release()\n",
    "cv2.destroyAllWindows()"
   ]
  }
 ],
 "metadata": {
  "kernelspec": {
   "display_name": "Python 3",
   "language": "python",
   "name": "python3"
  },
  "language_info": {
   "codemirror_mode": {
    "name": "ipython",
    "version": 3
   },
   "file_extension": ".py",
   "mimetype": "text/x-python",
   "name": "python",
   "nbconvert_exporter": "python",
   "pygments_lexer": "ipython3",
   "version": "3.6.6"
  }
 },
 "nbformat": 4,
 "nbformat_minor": 2
}
